{
 "cells": [
  {
   "cell_type": "code",
   "execution_count": 1,
   "metadata": {
    "collapsed": false
   },
   "outputs": [],
   "source": [
    "import urllib.request\n",
    "from bs4 import BeautifulSoup\n",
    "import pandas as pd\n",
    "import datetime\n",
    "import time\n",
    "import numpy as np\n",
    "import matplotlib.pyplot as plt\n",
    "\n",
    "def get_data(start, end, country_code='DE'):\n",
    "\n",
    "    turnover_dates = [datetime.date(2017, 9, 26), datetime.date(2016, 9, 20), datetime.date(2015, 9, 22), \n",
    "                      datetime.date(2014, 9, 23), datetime.date(2013, 10, 15), datetime.date(2012, 10, 9),\n",
    "                      datetime.date(2011, 10, 11), datetime.date(2010, 10, 12), datetime.date(2009, 10, 13),\n",
    "                      datetime.date(2008, 10, 14), datetime.date(2007, 10, 9), datetime.date(2006, 10, 10)]\n",
    "\n",
    "    # yields date and olc_year\n",
    "    def daterange(start_date, end_date):\n",
    "        if start_date <= end_date:\n",
    "            for n in range((end_date - start_date ).days + 1):\n",
    "                date = start_date + datetime.timedelta(n)\n",
    "                yield date, 2018 - turnover_dates.index(next(i for i in turnover_dates if date >= i))  \n",
    "        else:\n",
    "            for n in range((start_date - end_date ).days + 1):\n",
    "                date = start_date - datetime.timedelta(n)\n",
    "                yield date, 2018 - turnover_dates.index(next(i for i in turnover_dates if date >= i))  \n",
    "\n",
    "    # first day of olc records\n",
    "    if end < datetime.date(2006, 10, 10):\n",
    "        end = datetime.date(2006, 10, 10)\n",
    "\n",
    "    # array to store all the flights   \n",
    "    flights = []\n",
    "\n",
    "    # iterate through dates\n",
    "    for date, olc_year in daterange(start, end):\n",
    "\n",
    "        # specify the url\n",
    "        begin = 'https://www.onlinecontest.org/olc-2.0/gliding/daily.html?st=olc&rt=olc&df='\n",
    "        middle1 = '&sp='\n",
    "        middle2 = '&c='\n",
    "        end = '&sc='\n",
    "        quote_page = begin + str(date) + middle1 + str(olc_year) + middle2 + country_code + end\n",
    "\n",
    "        # print link\n",
    "        print(quote_page)\n",
    "\n",
    "        # query the website and return the html to the variable ‘page’\n",
    "        page = urllib.request.urlopen(quote_page)\n",
    "\n",
    "        # parse the html using beautiful soup and store in variable `soup`\n",
    "        soup = BeautifulSoup(page, 'html.parser')\n",
    "\n",
    "        # Take out the <div> of list and get its value\n",
    "        table = soup.find('table', attrs={'class': 'list'})\n",
    "\n",
    "        # iterate through table\n",
    "        trs = table.findAll('tr', attrs={'class': 'valid'})\n",
    "        for tr in trs:\n",
    "            tds = tr.findAll('td', class_=lambda x: x!= 'lupe')\n",
    "            flight=[str(date)]\n",
    "            for i, td in zip(range(len(tds)),tds):\n",
    "                string = td.text.strip().replace(u'\\xa0', u' ')\n",
    "\n",
    "                # no fai before this date\n",
    "                if date <= datetime.date(2010, 10, 11):\n",
    "                    if i in [2, 6, 7, 8]:\n",
    "                        flight.append(string)\n",
    "                    if i in [0, 1, 4, 5, 9, 10]:\n",
    "                        string = string.replace('.', '')\n",
    "                        string = string.replace(':', '.')\n",
    "                        string = string.replace(',', '.')\n",
    "                        flight.append(float(string))\n",
    "\n",
    "                    # 0 value for FAI\n",
    "                    if i == 4:\n",
    "                        flight.append(float(0))\n",
    "\n",
    "                # fai box\n",
    "                else:\n",
    "                    if i in [2, 7, 8, 9]:\n",
    "                        flight.append(string)\n",
    "                    if i in [0, 1, 4, 5, 6, 10, 11]:\n",
    "                        string = string.replace('.', '')\n",
    "                        string = string.replace(':', '.')\n",
    "                        string = string.replace(',', '.')\n",
    "                        flight.append(float(string))\n",
    "\n",
    "            # append flight to matrix           \n",
    "            flights.append(flight)\n",
    "\n",
    "        # wait for 0.1 seconds to be soft on the website\n",
    "        time.sleep(0.1)\n",
    "    return flights\n",
    "\n",
    "\n",
    "# finds the average points of the first five flights on a day based on olc records\n",
    "def find_best_days(flights_table, country=None):\n",
    "    if country:\n",
    "        flights_table = flights_table[flights_table['Airfield'].str.contains(country + ' /')]\n",
    "    \n",
    "    # matrix to store average points\n",
    "    average_points = np.zeros((365))\n",
    "    \n",
    "    # years to evaluate\n",
    "    years = np.arange(2007, 2018)\n",
    "    \n",
    "    # loop through years\n",
    "    for year in years:\n",
    "        base = datetime.date(year, 1, 1)\n",
    "        date_list = [base + datetime.timedelta(days=x) for x in range(0, 365)]\n",
    "        \n",
    "        # loop through dates\n",
    "        for i, date in zip(range(len(date_list)), date_list):\n",
    "            \n",
    "            # filter flights\n",
    "            flights_on_day = flights_table.loc[flights_table['Date'].str.contains(str(date))]\n",
    "            \n",
    "            # use five flights if possible\n",
    "            if flights_on_day.shape[0] >= 5:\n",
    "                average_points[i] += (flights_on_day['Points'][0:5].mean())\n",
    "                \n",
    "            if flights_on_day.shape[0] == 0:\n",
    "                average_points[i] += 0\n",
    "                \n",
    "            # if not, use what you have\n",
    "            if (flights_on_day.shape[0] > 0 and flights_on_day.shape[0] < 5):\n",
    "                average_points[i] += (flights_on_day['Points'].mean())\n",
    "                \n",
    "    average_points = average_points / len(years)\n",
    "    return average_points"
   ]
  },
  {
   "cell_type": "code",
   "execution_count": null,
   "metadata": {
    "collapsed": true
   },
   "outputs": [],
   "source": [
    "flights = get_Data(datetime.date(year = 2018, month = 1, day = 1), \n",
    "                  datetime.date(year = 2006, month = 10, day = 10))\n",
    "\n",
    "# create Pandas DataFrame\n",
    "flights_table = pd.DataFrame(flights, columns = ['Date', 'Score', 'Points', 'Pilot', 'Km', 'FAI', 'Speed',\n",
    "                                                 'Airfield', 'Club', 'Glider', 'Start', 'Land'])\n",
    "print(flights_table.info())"
   ]
  },
  {
   "cell_type": "code",
   "execution_count": 72,
   "metadata": {
    "collapsed": false
   },
   "outputs": [],
   "source": [
    "# save the flights\n",
    "flights_table.to_csv('flights_table_DE', sep='\\t')\n",
    "flights_table.to_pickle('flights_table_DE.pkl')"
   ]
  },
  {
   "cell_type": "code",
   "execution_count": 2,
   "metadata": {
    "collapsed": true
   },
   "outputs": [],
   "source": [
    "# load the flights\n",
    "flights_table = pd.read_pickle('flights_table_DE.pkl')"
   ]
  },
  {
   "cell_type": "code",
   "execution_count": 3,
   "metadata": {
    "collapsed": false
   },
   "outputs": [
    {
     "data": {
      "text/plain": [
       "374"
      ]
     },
     "execution_count": 3,
     "metadata": {},
     "output_type": "execute_result"
    }
   ],
   "source": [
    "# how many different Glider types?\n",
    "flights_table.Glider.nunique()"
   ]
  },
  {
   "cell_type": "code",
   "execution_count": null,
   "metadata": {
    "collapsed": false,
    "scrolled": true
   },
   "outputs": [],
   "source": [
    "best_days = find_best_days(flights_table)\n",
    "\n",
    "plt.figure(1)\n",
    "plt.figure(figsize=(8, 4))\n",
    "plt.plot(np.arange(1, 366), best_days, 'bo')\n",
    "\n",
    "# different month length not accounted for\n",
    "plt.xticks(np.linspace(1, 366, 13), ('Januar', 'Februar', 'März', 'April', 'Mai', 'Juni', 'Juli', 'August', \n",
    "                        'September', 'Oktober', 'November', 'Dezember', ''))\n",
    "\n",
    "plt.show()\n"
   ]
  },
  {
   "cell_type": "code",
   "execution_count": null,
   "metadata": {
    "collapsed": true
   },
   "outputs": [],
   "source": []
  }
 ],
 "metadata": {
  "kernelspec": {
   "display_name": "Python 3",
   "language": "python",
   "name": "python3"
  },
  "language_info": {
   "codemirror_mode": {
    "name": "ipython",
    "version": 3
   },
   "file_extension": ".py",
   "mimetype": "text/x-python",
   "name": "python",
   "nbconvert_exporter": "python",
   "pygments_lexer": "ipython3",
   "version": "3.6.0"
  }
 },
 "nbformat": 4,
 "nbformat_minor": 2
}
